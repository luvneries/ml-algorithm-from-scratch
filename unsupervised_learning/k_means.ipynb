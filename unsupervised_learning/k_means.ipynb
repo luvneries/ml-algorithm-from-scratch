{
 "cells": [
  {
   "cell_type": "code",
   "execution_count": 3,
   "metadata": {},
   "outputs": [],
   "source": [
    "# Let's make this notebook compatible for Python 2 and 3\n",
    "from __future__ import division, print_function\n",
    "\n",
    "# Import libraries\n",
    "import pandas as pd\n",
    "import numpy as np\n",
    "import os\n",
    "import math\n",
    "import itertools\n",
    "\n",
    "# for visualization\n",
    "import matplotlib.pyplot as plt\n",
    "\n",
    "# to import module from parent directory\n",
    "import sys\n",
    "sys.path.append('..')\n",
    "\n",
    "# Dataset API from sklearn\n",
    "from sklearn import datasets"
   ]
  },
  {
   "cell_type": "code",
   "execution_count": 7,
   "metadata": {},
   "outputs": [],
   "source": [
    "from utils import normalize, euclidean_distance, Plot"
   ]
  },
  {
   "cell_type": "code",
   "execution_count": 8,
   "metadata": {},
   "outputs": [],
   "source": [
    "class KMeans():\n",
    "    \"\"\"A simple clustering method that forms k clusters by iteratively reassigning\n",
    "    samples to the closest centroids and after that moves the centroids to the center\n",
    "    of the new formed clusters.\n",
    "\n",
    "\n",
    "    Parameters:\n",
    "    -----------\n",
    "    k: int\n",
    "        The number of clusters the algorithm will form.\n",
    "    max_iterations: int\n",
    "        The number of iterations the algorithm will run for if it does\n",
    "        not converge before that. \n",
    "    \"\"\"\n",
    "    def __init__(self, k=2, max_iterations=500):\n",
    "        self.k = k\n",
    "        self.max_iterations = max_iterations\n",
    "\n",
    "    def _init_random_centroids(self, X):\n",
    "        \"\"\" Initialize the centroids as k random samples of X\"\"\"\n",
    "        n_samples, n_features = np.shape(X)\n",
    "        centroids = np.zeros((self.k, n_features))\n",
    "        for i in range(self.k):\n",
    "            centroid = X[np.random.choice(range(n_samples))]\n",
    "            centroids[i] = centroid\n",
    "        return centroids\n",
    "\n",
    "    def _closest_centroid(self, sample, centroids):\n",
    "        \"\"\" Return the index of the closest centroid to the sample \"\"\"\n",
    "        closest_i = 0\n",
    "        closest_dist = float('inf')\n",
    "        for i, centroid in enumerate(centroids):\n",
    "            distance = euclidean_distance(sample, centroid)\n",
    "            if distance < closest_dist:\n",
    "                closest_i = i\n",
    "                closest_dist = distance\n",
    "        return closest_i\n",
    "\n",
    "    def _create_clusters(self, centroids, X):\n",
    "        \"\"\" Assign the samples to the closest centroids to create clusters \"\"\"\n",
    "        n_samples = np.shape(X)[0]\n",
    "        clusters = [[] for _ in range(self.k)]\n",
    "        for sample_i, sample in enumerate(X):\n",
    "            centroid_i = self._closest_centroid(sample, centroids)\n",
    "            clusters[centroid_i].append(sample_i)\n",
    "        return clusters\n",
    "\n",
    "    def _calculate_centroids(self, clusters, X):\n",
    "        \"\"\" Calculate new centroids as the means of the samples in each cluster  \"\"\"\n",
    "        n_features = np.shape(X)[1]\n",
    "        centroids = np.zeros((self.k, n_features))\n",
    "        for i, cluster in enumerate(clusters):\n",
    "            centroid = np.mean(X[cluster], axis=0)\n",
    "            centroids[i] = centroid\n",
    "        return centroids\n",
    "\n",
    "    def _get_cluster_labels(self, clusters, X):\n",
    "        \"\"\" Classify samples as the index of their clusters \"\"\"\n",
    "        # One prediction for each sample\n",
    "        y_pred = np.zeros(np.shape(X)[0])\n",
    "        for cluster_i, cluster in enumerate(clusters):\n",
    "            for sample_i in cluster:\n",
    "                y_pred[sample_i] = cluster_i\n",
    "        return y_pred\n",
    "\n",
    "    def predict(self, X):\n",
    "        \"\"\" Do K-Means clustering and return cluster indices \"\"\"\n",
    "\n",
    "        # Initialize centroids as k random samples from X\n",
    "        centroids = self._init_random_centroids(X)\n",
    "\n",
    "        # Iterate until convergence or for max iterations\n",
    "        for _ in range(self.max_iterations):\n",
    "            # Assign samples to closest centroids (create clusters)\n",
    "            clusters = self._create_clusters(centroids, X)\n",
    "            # Save current centroids for convergence check\n",
    "            prev_centroids = centroids\n",
    "            # Calculate new centroids from the clusters\n",
    "            centroids = self._calculate_centroids(clusters, X)\n",
    "            # If no centroids have changed => convergence\n",
    "            diff = centroids - prev_centroids\n",
    "            if not diff.any():\n",
    "                break\n",
    "\n",
    "        return self._get_cluster_labels(clusters, X)\n",
    "\n"
   ]
  },
  {
   "cell_type": "code",
   "execution_count": 9,
   "metadata": {},
   "outputs": [
    {
     "data": {
      "image/png": "[encoded data removed]",
      "text/plain": [
       "<matplotlib.figure.Figure at 0x1119866d8>"
      ]
     },
     "metadata": {},
     "output_type": "display_data"
    },
    {
     "data": {
      "image/png": "[encoded data removed]",
      "text/plain": [
       "<matplotlib.figure.Figure at 0x1119860b8>"
      ]
     },
     "metadata": {},
     "output_type": "display_data"
    }
   ],
   "source": [
    "def main():\n",
    "    # Load the dataset\n",
    "    X, y = datasets.make_blobs()\n",
    "\n",
    "    # Cluster the data using K-Means\n",
    "    clf = KMeans(k=3)\n",
    "    y_pred = clf.predict(X)\n",
    "\n",
    "    # Project the data onto the 2 primary principal components\n",
    "    p = Plot()\n",
    "    p.plot_in_2d(X, y_pred, title=\"K-Means Clustering\")\n",
    "    p.plot_in_2d(X, y, title=\"Actual Clustering\")\n",
    "\n",
    "\n",
    "\n",
    "if __name__ == \"__main__\":\n",
    "    main()"
   ]
  },
  {
   "cell_type": "code",
   "execution_count": null,
   "metadata": {},
   "outputs": [],
   "source": []
  }
 ],
 "metadata": {
  "kernelspec": {
   "display_name": "Python 3",
   "language": "python",
   "name": "python3"
  },
  "language_info": {
   "codemirror_mode": {
    "name": "ipython",
    "version": 3
   },
   "file_extension": ".py",
   "mimetype": "text/x-python",
   "name": "python",
   "nbconvert_exporter": "python",
   "pygments_lexer": "ipython3",
   "version": "3.6.3"
  }
 },
 "nbformat": 4,
 "nbformat_minor": 2
}
