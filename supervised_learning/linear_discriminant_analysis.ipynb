{
 "cells": [
  {
   "cell_type": "code",
   "execution_count": 15,
   "metadata": {},
   "outputs": [],
   "source": [
    "# Let's make this notebook compatible for Python 2 and 3\n",
    "from __future__ import division, print_function\n",
    "\n",
    "# Import libraries\n",
    "import pandas as pd\n",
    "import numpy as np\n",
    "import os\n",
    "import math\n",
    "from scipy.stats import chi2, multivariate_normal\n",
    "\n",
    "# for visualization\n",
    "import matplotlib.pyplot as plt\n",
    "\n",
    "# to import module from parent directory\n",
    "import sys\n",
    "sys.path.append('..')\n",
    "\n",
    "# Dataset API from sklearn\n",
    "from sklearn import datasets"
   ]
  },
  {
   "cell_type": "code",
   "execution_count": 16,
   "metadata": {},
   "outputs": [],
   "source": [
    "# Import helper functions\n",
    "from utils import calculate_covariance_matrix, Plot\n",
    "from utils import train_test_split, normalize, standardize, accuracy_score"
   ]
  },
  {
   "cell_type": "code",
   "execution_count": 17,
   "metadata": {},
   "outputs": [],
   "source": [
    "class LDA():\n",
    "    \"\"\"The Linear Discriminant Analysis classifier, also known as Fisher's linear discriminant.\n",
    "    Can besides from classification also be used to reduce the dimensionaly of the dataset.\n",
    "    \"\"\"\n",
    "    def __init__(self):\n",
    "        self.w = None\n",
    "\n",
    "    def transform(self, X, y):\n",
    "        self.fit(X, y)\n",
    "        # Project data onto vector\n",
    "        X_transform = X.dot(self.w)\n",
    "        return X_transform\n",
    "\n",
    "    def fit(self, X, y):\n",
    "        # Separate data by class\n",
    "        X1 = X[y == 0]\n",
    "        X2 = X[y == 1]\n",
    "\n",
    "        # Calculate the covariance matrices of the two datasets\n",
    "        cov1 = calculate_covariance_matrix(X1)\n",
    "        cov2 = calculate_covariance_matrix(X2)\n",
    "        cov_tot = cov1 + cov2\n",
    "\n",
    "        # Calculate the mean of the two datasets\n",
    "        mean1 = X1.mean(0)\n",
    "        mean2 = X2.mean(0)\n",
    "        mean_diff = np.atleast_1d(mean1 - mean2)\n",
    "\n",
    "        # Determine the vector which when X is projected onto it best separates the\n",
    "        # data by class. w = (mean1 - mean2) / (cov1 + cov2)\n",
    "        self.w = np.linalg.pinv(cov_tot).dot(mean_diff)\n",
    "\n",
    "    def predict(self, X):\n",
    "        y_pred = []\n",
    "        for sample in X:\n",
    "            h = sample.dot(self.w)\n",
    "            y = 1 * (h < 0)\n",
    "            y_pred.append(y)\n",
    "        return y_pred\n"
   ]
  },
  {
   "cell_type": "code",
   "execution_count": 18,
   "metadata": {},
   "outputs": [],
   "source": [
    "class MultiClassLDA():\n",
    "    \"\"\"Enables dimensionality reduction for multiple\n",
    "    class distributions. It transforms the features space into a space where\n",
    "    the between class scatter is maximized and the within class scatter is\n",
    "    minimized.\n",
    "\n",
    "    Parameters:\n",
    "    -----------\n",
    "    solver: str\n",
    "        If 'svd' we use the pseudo-inverse to calculate the inverse of matrices\n",
    "        when doing the transformation.\n",
    "    \"\"\"\n",
    "    def __init__(self, solver=\"svd\"):\n",
    "        self.solver = solver\n",
    "\n",
    "    def _calculate_scatter_matrices(self, X, y):\n",
    "        n_features = np.shape(X)[1]\n",
    "        labels = np.unique(y)\n",
    "\n",
    "        # Within class scatter matrix:\n",
    "        # SW = sum{ (X_for_class - mean_of_X_for_class)^2 }\n",
    "        #   <=> (n_samples_X_for_class - 1) * covar(X_for_class)\n",
    "        SW = np.empty((n_features, n_features))\n",
    "        for label in labels:\n",
    "            _X = X[y == label]\n",
    "            SW += (len(_X) - 1) * calculate_covariance_matrix(_X)\n",
    "\n",
    "        # Between class scatter:\n",
    "        # SB = sum{ n_samples_for_class * (mean_for_class - total_mean)^2 }\n",
    "        total_mean = np.mean(X, axis=0)\n",
    "        SB = np.empty((n_features, n_features))\n",
    "        for label in labels:\n",
    "            _X = X[y == label]\n",
    "            _mean = np.mean(_X, axis=0)\n",
    "            SB += len(_X) * (_mean - total_mean).dot((_mean - total_mean).T)\n",
    "\n",
    "        return SW, SB\n",
    "\n",
    "    def transform(self, X, y, n_components):\n",
    "        SW, SB = self._calculate_scatter_matrices(X, y)\n",
    "\n",
    "        # Determine SW^-1 * SB by calculating inverse of SW\n",
    "        A = np.linalg.inv(SW).dot(SB)\n",
    "\n",
    "        # Get eigenvalues and eigenvectors of SW^-1 * SB\n",
    "        eigenvalues, eigenvectors = np.linalg.eigh(A)\n",
    "\n",
    "        # Sort the eigenvalues and corresponding eigenvectors from largest\n",
    "        # to smallest eigenvalue and select the first n_components\n",
    "        idx = eigenvalues.argsort()[::-1]\n",
    "        eigenvalues = eigenvalues[idx][:n_components]\n",
    "        eigenvectors = eigenvectors[:, idx][:, :n_components]\n",
    "\n",
    "        # Project the data onto eigenvectors\n",
    "        X_transformed = X.dot(eigenvectors)\n",
    "\n",
    "        return X_transformed\n",
    "\n",
    "\n",
    "    def plot_in_2d(self, X, y, title=None):\n",
    "        \"\"\" Plot the dataset X and the corresponding labels y in 2D using the LDA\n",
    "        transformation.\"\"\"\n",
    "        X_transformed = self.transform(X, y, n_components=2)\n",
    "        x1 = X_transformed[:, 0]\n",
    "        x2 = X_transformed[:, 1]\n",
    "        plt.scatter(x1, x2, c=y)\n",
    "        if title: plt.title(title)\n",
    "        plt.show()\n"
   ]
  },
  {
   "cell_type": "code",
   "execution_count": 19,
   "metadata": {},
   "outputs": [
    {
     "name": "stdout",
     "output_type": "stream",
     "text": [
      "Accuracy: 1.0\n"
     ]
    },
    {
     "data": {
      "image/png": "[encoded data removed]",
      "text/plain": [
       "<matplotlib.figure.Figure at 0x109f2ffd0>"
      ]
     },
     "metadata": {},
     "output_type": "display_data"
    }
   ],
   "source": [
    "def main():\n",
    "    # Load the dataset\n",
    "    data = datasets.load_iris()\n",
    "    X = data.data\n",
    "    y = data.target\n",
    "\n",
    "    # Three -> two classes\n",
    "    X = X[y != 2]\n",
    "    y = y[y != 2]\n",
    "\n",
    "    X_train, X_test, y_train, y_test = train_test_split(X, y, test_size=0.33)\n",
    "\n",
    "    # Fit and predict using LDA\n",
    "    lda = LDA()\n",
    "    lda.fit(X_train, y_train)\n",
    "    y_pred = lda.predict(X_test)\n",
    "\n",
    "    accuracy = accuracy_score(y_test, y_pred)\n",
    "\n",
    "    print (\"Accuracy:\", accuracy)\n",
    "\n",
    "    Plot().plot_in_2d(X_test, y_pred, title=\"LDA\", accuracy=accuracy)\n",
    "\n",
    "if __name__ == \"__main__\":\n",
    "    main()\n"
   ]
  },
  {
   "cell_type": "code",
   "execution_count": 20,
   "metadata": {},
   "outputs": [
    {
     "data": {
      "image/png": "[encoded data removed]",
      "text/plain": [
       "<matplotlib.figure.Figure at 0x109f2f4e0>"
      ]
     },
     "metadata": {},
     "output_type": "display_data"
    }
   ],
   "source": [
    "# multi class LDA\n",
    "def main():\n",
    "    # Load the dataset\n",
    "    data = datasets.load_iris()\n",
    "    X = normalize(data.data)\n",
    "    y = data.target\n",
    "\n",
    "    # Project the data onto the 2 primary components\n",
    "    multi_class_lda = MultiClassLDA()\n",
    "    multi_class_lda.plot_in_2d(X, y, title=\"LDA\")\n",
    "\n",
    "if __name__ == \"__main__\":\n",
    "    main()"
   ]
  },
  {
   "cell_type": "code",
   "execution_count": null,
   "metadata": {},
   "outputs": [],
   "source": []
  }
 ],
 "metadata": {
  "kernelspec": {
   "display_name": "Python 3",
   "language": "python",
   "name": "python3"
  },
  "language_info": {
   "codemirror_mode": {
    "name": "ipython",
    "version": 3
   },
   "file_extension": ".py",
   "mimetype": "text/x-python",
   "name": "python",
   "nbconvert_exporter": "python",
   "pygments_lexer": "ipython3",
   "version": "3.6.3"
  }
 },
 "nbformat": 4,
 "nbformat_minor": 2
}
