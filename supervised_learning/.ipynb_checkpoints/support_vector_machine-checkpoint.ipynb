{
 "cells": [
  {
   "cell_type": "markdown",
   "metadata": {},
   "source": [
    "## <center>Support Vector Machine</center>"
   ]
  },
  {
   "cell_type": "code",
   "execution_count": 5,
   "metadata": {},
   "outputs": [],
   "source": [
    "# Import libraries\n",
    "import sys\n",
    "sys.path.append(\"..\")\n",
    "\n",
    "import numpy as np\n",
    "import cvxopt\n",
    "cvxopt.solvers.options['show_progress'] = False\n",
    "\n",
    "from utils import euclidean_distance, accuracy_score\n",
    "from utils import train_test_split, normalize, Plot\n",
    "from utils.kernels import *"
   ]
  },
  {
   "cell_type": "code",
   "execution_count": 6,
   "metadata": {},
   "outputs": [],
   "source": [
    "class SVM:\n",
    "    \"\"\"The Support Vector Machine Classifier\n",
    "    Uses cvxopt to solve the quadratic optimization problem\n",
    "    \n",
    "    Parameters:\n",
    "    -----------\n",
    "    C: float\n",
    "        Penalty term\n",
    "    \n",
    "    kernel: function\n",
    "        polynomial, rbf, linear\n",
    "    \n",
    "    power: int\n",
    "        The degree of for polynomial kernel, ignore for others.\n",
    "    \n",
    "    gamma: float\n",
    "        Used in rbf kernel function.\n",
    "    \n",
    "    coef: float\n",
    "        Bias term used in polynomial kernel.\n",
    "    \"\"\"\n",
    "    \n",
    "    def __init__(self, C=1, kernel=rbf_kernel, power=4, gamma=None, coef=4):\n",
    "        self.C = C\n",
    "        self.kernel = kernel\n",
    "        self.power = power\n",
    "        self.gamma = gamma\n",
    "        self.coef = coef\n",
    "        self.lagr_multipliers = None\n",
    "        self.support_vectors = None\n",
    "        self.support_vector_labels = None\n",
    "        self.intercept = None\n",
    "        \n",
    "        \n",
    "    def fit(self, X, y):\n",
    "        n_samples, n_features = np.shape(X)\n",
    "        \n",
    "        if not self.gamma:\n",
    "            self.gamma = 1/n_features\n",
    "        \n",
    "        # Initialize the kernel function\n",
    "        self.kernel = self.kernel(power = self.power,\n",
    "                                 gamma = self.gamma,\n",
    "                                 coef = self.coef)\n",
    "        \n",
    "        kernel_matrix = np.zeros((n_samples, n_samples))\n",
    "        for i in range(n_samples):\n",
    "            for j in range(n_samples):\n",
    "                kernel_matrix[i,j] = self.kernel(X[i], X[j])\n",
    "        \n",
    "        #Define the quadratic optimization problem\n",
    "        P = cvxopt.matrix(np.outer(y, y) * kernel_matrix, tc='d')\n",
    "        q = cvxopt.matrix(np.ones(n_samples) * -1)\n",
    "        A = cvxopt.matrix(y, (1, n_samples), tc='d')\n",
    "        b = cvxopt.matrix(0, tc='d')\n",
    "        \n",
    "        if not self.C:\n",
    "            G = cvxopt.matrix(np.identity(n_samples) * -1)\n",
    "            h = cvxopt.matrix(np.zeros(n_samples))\n",
    "        else:\n",
    "            G_max = np.identity(n_samples) * -1\n",
    "            G_min = np.identity(n_samples)\n",
    "            G = cvxopt.matrix(np.vstack((G_max, G_min)))\n",
    "            h_max = cvxopt.matrix(np.zeros(n_samples))\n",
    "            h_min = cvxopt.matrix(np.ones(n_samples) * self.C)\n",
    "            h = cvxopt.matrix(np.vstack((h_max, h_min)))\n",
    "        \n",
    "        # Solve the quadratic optimization problem using cvxopt\n",
    "        minimization = cvxopt.solvers.qp(P, q, G, h, A, b)\n",
    "        \n",
    "        # Lagrange multiplier\n",
    "        lagr_mult = np.ravel(minimization['x'])\n",
    "        \n",
    "        # Extract support vectors\n",
    "        # Get index of non zero lagr. multipliers\n",
    "        idx = lagr_mult > 1e-7\n",
    "        \n",
    "        # Get the corresponding lagr. multipliers\n",
    "        self.lagr_multipliers = lagr_mult[idx]\n",
    "        \n",
    "        # Get the samples that will act as support vectors\n",
    "        self.support_vectors = X[idx]\n",
    "        \n",
    "        # Get the corresponding labels\n",
    "        self.support_vector_labels = y[idx]\n",
    "        \n",
    "        # Calculate the intercept with first support vector\n",
    "        self.intercept = self.support_vector_labels[0]\n",
    "        for i in range(len(self.lagr_multipliers)):\n",
    "            self.intercept -= self.lagr_multipliers[i] * self.support_vector_labels[i] * self.kernel(self.support_vectors[i], self.support_vectors[0])\n",
    "            \n",
    "    \n",
    "    def predict(self, X):\n",
    "        y_pred = []\n",
    "        \n",
    "        # Iterate through list of samples and make predictions\n",
    "        for sample in X:\n",
    "            prediction = 0\n",
    "            \n",
    "            # Determine the label of sample by the support vectors\n",
    "            for i in range(len(self.lagr_multipliers)):\n",
    "                prediction += self.lagr_multipliers[i] * self.support_vector_labels[i] * self.kernel(self.support_vectors[i], sample)\n",
    "                \n",
    "                \n",
    "            prediction += self.intercept\n",
    "            y_pred.append(np.sign(prediction))\n",
    "        return np.array(y_pred)"
   ]
  },
  {
   "cell_type": "markdown",
   "metadata": {},
   "source": [
    "### Test "
   ]
  },
  {
   "cell_type": "code",
   "execution_count": 7,
   "metadata": {},
   "outputs": [
    {
     "name": "stdout",
     "output_type": "stream",
     "text": [
      "Accuracy:  0.5172413793103449\n"
     ]
    },
    {
     "data": {
      "image/png": "[encoded data removed]",
      "text/plain": [
       "<matplotlib.figure.Figure at 0x1a095fa6a0>"
      ]
     },
     "metadata": {},
     "output_type": "display_data"
    }
   ],
   "source": [
    "def main():\n",
    "    from sklearn import datasets\n",
    "    data = datasets.load_iris()\n",
    "    X = normalize(data.data[data.target != 0])\n",
    "    y = data.target[data.target != 0]\n",
    "    y[y==1] = -1\n",
    "    y[y==2] = 1\n",
    "    #X = normalize(data.data)\n",
    "    y = data.target\n",
    "    \n",
    "    X_train, X_test, y_train, y_test = train_test_split(X, y, test_size = 0.3)\n",
    "    \n",
    "    clf = SVM(kernel = polynomial_kernel, power = 4, coef = 1)\n",
    "    clf.fit(X_train, y_train)\n",
    "    y_pred = clf.predict(X_test)\n",
    "    \n",
    "    accuracy = accuracy_score(y_test, y_pred)\n",
    "    \n",
    "    print(\"Accuracy: \", accuracy)\n",
    "    \n",
    "    # Reduce dimension to 2 using PCA and plot the results\n",
    "    Plot().plot_in_2d(X_test, y_pred, title = \"Support Vector Machine\", accuracy = accuracy)\n",
    "\n",
    "if __name__ == \"__main__\":\n",
    "    main()\n",
    "    "
   ]
  },
  {
   "cell_type": "code",
   "execution_count": null,
   "metadata": {},
   "outputs": [],
   "source": []
  }
 ],
 "metadata": {
  "kernelspec": {
   "display_name": "Python 3",
   "language": "python",
   "name": "python3"
  },
  "language_info": {
   "codemirror_mode": {
    "name": "ipython",
    "version": 3
   },
   "file_extension": ".py",
   "mimetype": "text/x-python",
   "name": "python",
   "nbconvert_exporter": "python",
   "pygments_lexer": "ipython3",
   "version": "3.6.3"
  }
 },
 "nbformat": 4,
 "nbformat_minor": 2
}
