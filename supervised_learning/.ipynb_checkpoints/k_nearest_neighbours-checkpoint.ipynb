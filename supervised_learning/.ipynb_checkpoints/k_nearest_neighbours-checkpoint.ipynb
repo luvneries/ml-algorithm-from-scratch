{
 "cells": [
  {
   "cell_type": "markdown",
   "metadata": {},
   "source": [
    "## K Nearest Neighbour "
   ]
  },
  {
   "cell_type": "markdown",
   "metadata": {},
   "source": [
    "Lets implement and test this algorithm from scratch."
   ]
  },
  {
   "cell_type": "code",
   "execution_count": 2,
   "metadata": {},
   "outputs": [],
   "source": [
    "import sys\n",
    "sys.path.append(\"..\")\n",
    "\n",
    "import numpy as np\n",
    "from utils import euclidean_distance, accuracy_score\n",
    "from utils import train_test_split, normalize, Plot"
   ]
  },
  {
   "cell_type": "code",
   "execution_count": 3,
   "metadata": {},
   "outputs": [],
   "source": [
    "class KNN():\n",
    "    \"\"\" K Nearest Neighbours Classifier.\n",
    "    \n",
    "    Parameters:\n",
    "    -----------\n",
    "    k: Int, Default 5\n",
    "        The number of closet neigbour that will determine the class of the sample\n",
    "    that we wish to predict.\n",
    "    There is no hyperparameters to tune in this algorithm.\n",
    "    \"\"\"\n",
    "    \n",
    "    def __init__(self, k=5):\n",
    "        self.k = k\n",
    "        \n",
    "    def _vote(self, neighbour_labels):\n",
    "        \"\"\"Return the most common class among the neighbour samples\"\"\"\n",
    "        count = np.bincount(neighbour_labels.astype('int'))\n",
    "        return count.argmax()\n",
    "    \n",
    "    def fit(self, X_train, y_train):\n",
    "        self.X_train = X_train\n",
    "        self.y_train = y_train\n",
    "    \n",
    "    def predict(self, X_test):\n",
    "        y_pred = np.empty(X_test.shape[0])\n",
    "        \n",
    "        #Determine the class of each sample\n",
    "        for i, test_sample in enumerate(X_test):\n",
    "            idx = np.argsort([euclidean_distance(test_sample, train_sample) for train_sample in self.X_train])[:self.k]\n",
    "            \n",
    "            k_nearest_neighbours = np.array([self.y_train[i] for i in idx])\n",
    "            \n",
    "            y_pred[i] = self._vote(k_nearest_neighbours)\n",
    "        \n",
    "        return y_pred\n",
    "        "
   ]
  },
  {
   "cell_type": "markdown",
   "metadata": {},
   "source": [
    "###  Test algorithm"
   ]
  },
  {
   "cell_type": "code",
   "execution_count": 6,
   "metadata": {},
   "outputs": [
    {
     "name": "stdout",
     "output_type": "stream",
     "text": [
      "[0. 2. 1. 0. 1. 2. 0. 0. 0. 1. 1. 2. 0. 1. 2. 2. 1. 0. 1. 0. 0. 2. 0. 0.\n",
      " 0. 0. 2. 1. 2. 0. 2. 2. 0. 2. 2. 2. 0. 2. 2. 1. 0. 0. 1. 0.]\n",
      "Accuracy:  1.0\n"
     ]
    },
    {
     "data": {
      "image/png": "[encoded data removed]",
      "text/plain": [
       "<matplotlib.figure.Figure at 0x10e1bbd30>"
      ]
     },
     "metadata": {},
     "output_type": "display_data"
    }
   ],
   "source": [
    "def main():\n",
    "    from sklearn import datasets\n",
    "    np.random.seed = 123\n",
    "    data = datasets.load_iris()\n",
    "    X = normalize(data.data)\n",
    "    y = data.target\n",
    "    X_train, X_test, y_train, y_test = train_test_split(X, y, test_size = 0.3)\n",
    "    \n",
    "    # Fit our classifier\n",
    "    clf = KNN(k=5)\n",
    "    clf.fit(X_train, y_train)\n",
    "    y_pred = clf.predict(X_test)\n",
    "    \n",
    "    print(y_pred)\n",
    "    accuracy = accuracy_score(y_test, y_pred)\n",
    "    print(\"Accuracy: \", accuracy)\n",
    "    \n",
    "    Plot().plot_in_2d(X_test, y_pred, title = \"K Nearest Neighbours\",\n",
    "                     accuracy = accuracy, legend_labels = data.target_names)\n",
    "\n",
    "if __name__ == \"__main__\":\n",
    "    main()"
   ]
  }
 ],
 "metadata": {
  "kernelspec": {
   "display_name": "Python 3",
   "language": "python",
   "name": "python3"
  },
  "language_info": {
   "codemirror_mode": {
    "name": "ipython",
    "version": 3
   },
   "file_extension": ".py",
   "mimetype": "text/x-python",
   "name": "python",
   "nbconvert_exporter": "python",
   "pygments_lexer": "ipython3",
   "version": "3.6.3"
  }
 },
 "nbformat": 4,
 "nbformat_minor": 2
}
