{
 "cells": [
  {
   "cell_type": "code",
   "execution_count": 3,
   "metadata": {},
   "outputs": [],
   "source": [
    "# Let's make this notebook compatible for Python 2 and 3\n",
    "from __future__ import division, print_function\n",
    "\n",
    "# Import libraries\n",
    "import pandas as pd\n",
    "import numpy as np\n",
    "import os\n",
    "import math\n",
    "import copy\n",
    "import progressbar\n",
    "\n",
    "# for visualization\n",
    "import matplotlib.pyplot as plt\n",
    "\n",
    "# to import module from parent directory\n",
    "import sys\n",
    "sys.path.append('..')\n",
    "\n",
    "# Dataset API from sklearn\n",
    "from sklearn import datasets"
   ]
  },
  {
   "cell_type": "code",
   "execution_count": 8,
   "metadata": {},
   "outputs": [],
   "source": [
    "import import_ipynb\n",
    "from decision_tree import ClassificationTree"
   ]
  },
  {
   "cell_type": "code",
   "execution_count": 9,
   "metadata": {},
   "outputs": [],
   "source": [
    "# Import helper functions\n",
    "from utils import divide_on_feature, train_test_split, get_random_subsets\n",
    "from utils import to_categorical, normalize, Plot, accuracy_score, calculate_entropy\n",
    "from utils.misc import bar_widgets\n",
    "\n",
    "from deep_learning.activation_functions import Sigmoid, ReLU, SoftPlus, LeakyReLU, TanH, ELU\n",
    "from deep_learning.loss_functions import CrossEntropy, SquareLoss"
   ]
  },
  {
   "cell_type": "code",
   "execution_count": 10,
   "metadata": {},
   "outputs": [],
   "source": [
    "class RandomForest():\n",
    "    \"\"\"Random Forest classifier. Uses a collection of classification trees that\n",
    "    trains on random subsets of the data using a random subsets of the features.\n",
    "\n",
    "    Parameters:\n",
    "    -----------\n",
    "    n_estimators: int\n",
    "        The number of classification trees that are used.\n",
    "    max_features: int\n",
    "        The maximum number of features that the classification trees are allowed to\n",
    "        use.\n",
    "    min_samples_split: int\n",
    "        The minimum number of samples needed to make a split when building a tree.\n",
    "    min_gain: float\n",
    "        The minimum impurity required to split the tree further. \n",
    "    max_depth: int\n",
    "        The maximum depth of a tree.\n",
    "    \"\"\"\n",
    "    def __init__(self, n_estimators=100, max_features=None, min_samples_split=2,\n",
    "                 min_gain=0, max_depth=float(\"inf\")):\n",
    "        self.n_estimators = n_estimators    # Number of trees\n",
    "        self.max_features = max_features    # Maxmimum number of features per tree\n",
    "        self.min_samples_split = min_samples_split\n",
    "        self.min_gain = min_gain            # Minimum information gain req. to continue\n",
    "        self.max_depth = max_depth          # Maximum depth for tree\n",
    "        self.progressbar = progressbar.ProgressBar(widgets=bar_widgets)\n",
    "\n",
    "        # Initialize decision trees\n",
    "        self.trees = []\n",
    "        for _ in range(n_estimators):\n",
    "            self.trees.append(\n",
    "                ClassificationTree(\n",
    "                    min_samples_split=self.min_samples_split,\n",
    "                    min_impurity=min_gain,\n",
    "                    max_depth=self.max_depth))\n",
    "\n",
    "    def fit(self, X, y):\n",
    "        n_features = np.shape(X)[1]\n",
    "        # If max_features have not been defined => select it as\n",
    "        # sqrt(n_features)\n",
    "        if not self.max_features:\n",
    "            self.max_features = int(math.sqrt(n_features))\n",
    "\n",
    "        # Choose one random subset of the data for each tree\n",
    "        subsets = get_random_subsets(X, y, self.n_estimators)\n",
    "\n",
    "        for i in self.progressbar(range(self.n_estimators)):\n",
    "            X_subset, y_subset = subsets[i]\n",
    "            # Feature bagging (select random subsets of the features)\n",
    "            idx = np.random.choice(range(n_features), size=self.max_features, replace=True)\n",
    "            # Save the indices of the features for prediction\n",
    "            self.trees[i].feature_indices = idx\n",
    "            # Choose the features corresponding to the indices\n",
    "            X_subset = X_subset[:, idx]\n",
    "            # Fit the tree to the data\n",
    "            self.trees[i].fit(X_subset, y_subset)\n",
    "\n",
    "    def predict(self, X):\n",
    "        y_preds = np.empty((X.shape[0], len(self.trees)))\n",
    "        # Let each tree make a prediction on the data\n",
    "        for i, tree in enumerate(self.trees):\n",
    "            # Indices of the features that the tree has trained on\n",
    "            idx = tree.feature_indices\n",
    "            # Make a prediction based on those features\n",
    "            prediction = tree.predict(X[:, idx])\n",
    "            y_preds[:, i] = prediction\n",
    "            \n",
    "        y_pred = []\n",
    "        # For each sample\n",
    "        for sample_predictions in y_preds:\n",
    "            # Select the most common class prediction\n",
    "            y_pred.append(np.bincount(sample_predictions.astype('int')).argmax())\n",
    "        return y_pred\n"
   ]
  },
  {
   "cell_type": "code",
   "execution_count": null,
   "metadata": {},
   "outputs": [
    {
     "name": "stderr",
     "output_type": "stream",
     "text": [
      "Training:  17% [-------                                        ] ETA:   0:01:49"
     ]
    }
   ],
   "source": [
    "def main():\n",
    "    data = datasets.load_digits()\n",
    "    X = data.data\n",
    "    y = data.target\n",
    "\n",
    "    X_train, X_test, y_train, y_test = train_test_split(X, y, test_size=0.4, seed=2)\n",
    "\n",
    "    clf = RandomForest(n_estimators=100)\n",
    "    clf.fit(X_train, y_train)\n",
    "    y_pred = clf.predict(X_test)\n",
    "\n",
    "    accuracy = accuracy_score(y_test, y_pred)\n",
    "\n",
    "    print (\"Accuracy:\", accuracy)\n",
    "\n",
    "    Plot().plot_in_2d(X_test, y_pred, title=\"Random Forest\", accuracy=accuracy, legend_labels=data.target_names)\n",
    "\n",
    "\n",
    "if __name__ == \"__main__\":\n",
    "    main()\n"
   ]
  },
  {
   "cell_type": "code",
   "execution_count": null,
   "metadata": {},
   "outputs": [],
   "source": []
  }
 ],
 "metadata": {
  "kernelspec": {
   "display_name": "Python 3",
   "language": "python",
   "name": "python3"
  },
  "language_info": {
   "codemirror_mode": {
    "name": "ipython",
    "version": 3
   },
   "file_extension": ".py",
   "mimetype": "text/x-python",
   "name": "python",
   "nbconvert_exporter": "python",
   "pygments_lexer": "ipython3",
   "version": "3.6.3"
  }
 },
 "nbformat": 4,
 "nbformat_minor": 2
}
